{
 "cells": [
  {
   "cell_type": "code",
   "execution_count": 102,
   "metadata": {
    "collapsed": true
   },
   "outputs": [],
   "source": [
    "import pandas as pd\n",
    "import thinkstats2\n",
    "import numpy as np\n",
    "import thinkplot\n",
    "from scipy import stats\n",
    "import random\n",
    "%matplotlib inline"
   ]
  },
  {
   "cell_type": "code",
   "execution_count": 52,
   "metadata": {
    "collapsed": false
   },
   "outputs": [],
   "source": [
    "donations = pd.read_csv(\"Managers.csv\")\n",
    "donations[\"rankinlg\"]= donations[\"rank\"]"
   ]
  },
  {
   "cell_type": "code",
   "execution_count": 53,
   "metadata": {
    "collapsed": false
   },
   "outputs": [
    {
     "data": {
      "text/html": [
       "<div>\n",
       "<table border=\"1\" class=\"dataframe\">\n",
       "  <thead>\n",
       "    <tr style=\"text-align: right;\">\n",
       "      <th></th>\n",
       "      <th>yearID</th>\n",
       "      <th>inseason</th>\n",
       "      <th>G</th>\n",
       "      <th>W</th>\n",
       "      <th>L</th>\n",
       "      <th>rank</th>\n",
       "      <th>rankinlg</th>\n",
       "    </tr>\n",
       "  </thead>\n",
       "  <tbody>\n",
       "    <tr>\n",
       "      <th>count</th>\n",
       "      <td>3436.000000</td>\n",
       "      <td>3436.000000</td>\n",
       "      <td>3436.000000</td>\n",
       "      <td>3436.000000</td>\n",
       "      <td>3436.000000</td>\n",
       "      <td>3436.000000</td>\n",
       "      <td>3436.000000</td>\n",
       "    </tr>\n",
       "    <tr>\n",
       "      <th>mean</th>\n",
       "      <td>1954.223516</td>\n",
       "      <td>1.233120</td>\n",
       "      <td>124.168510</td>\n",
       "      <td>61.729627</td>\n",
       "      <td>61.738068</td>\n",
       "      <td>4.338766</td>\n",
       "      <td>4.338766</td>\n",
       "    </tr>\n",
       "    <tr>\n",
       "      <th>std</th>\n",
       "      <td>42.078606</td>\n",
       "      <td>0.596025</td>\n",
       "      <td>50.414981</td>\n",
       "      <td>28.746768</td>\n",
       "      <td>26.417168</td>\n",
       "      <td>2.396849</td>\n",
       "      <td>2.396849</td>\n",
       "    </tr>\n",
       "    <tr>\n",
       "      <th>min</th>\n",
       "      <td>1871.000000</td>\n",
       "      <td>1.000000</td>\n",
       "      <td>1.000000</td>\n",
       "      <td>0.000000</td>\n",
       "      <td>0.000000</td>\n",
       "      <td>1.000000</td>\n",
       "      <td>1.000000</td>\n",
       "    </tr>\n",
       "    <tr>\n",
       "      <th>25%</th>\n",
       "      <td>1918.000000</td>\n",
       "      <td>1.000000</td>\n",
       "      <td>91.000000</td>\n",
       "      <td>42.000000</td>\n",
       "      <td>46.000000</td>\n",
       "      <td>2.000000</td>\n",
       "      <td>2.000000</td>\n",
       "    </tr>\n",
       "    <tr>\n",
       "      <th>50%</th>\n",
       "      <td>1962.000000</td>\n",
       "      <td>1.000000</td>\n",
       "      <td>154.000000</td>\n",
       "      <td>70.000000</td>\n",
       "      <td>68.000000</td>\n",
       "      <td>4.000000</td>\n",
       "      <td>4.000000</td>\n",
       "    </tr>\n",
       "    <tr>\n",
       "      <th>75%</th>\n",
       "      <td>1991.000000</td>\n",
       "      <td>1.000000</td>\n",
       "      <td>162.000000</td>\n",
       "      <td>84.000000</td>\n",
       "      <td>81.000000</td>\n",
       "      <td>6.000000</td>\n",
       "      <td>6.000000</td>\n",
       "    </tr>\n",
       "    <tr>\n",
       "      <th>max</th>\n",
       "      <td>2016.000000</td>\n",
       "      <td>9.000000</td>\n",
       "      <td>165.000000</td>\n",
       "      <td>116.000000</td>\n",
       "      <td>120.000000</td>\n",
       "      <td>12.000000</td>\n",
       "      <td>12.000000</td>\n",
       "    </tr>\n",
       "  </tbody>\n",
       "</table>\n",
       "</div>"
      ],
      "text/plain": [
       "            yearID     inseason            G            W            L  \\\n",
       "count  3436.000000  3436.000000  3436.000000  3436.000000  3436.000000   \n",
       "mean   1954.223516     1.233120   124.168510    61.729627    61.738068   \n",
       "std      42.078606     0.596025    50.414981    28.746768    26.417168   \n",
       "min    1871.000000     1.000000     1.000000     0.000000     0.000000   \n",
       "25%    1918.000000     1.000000    91.000000    42.000000    46.000000   \n",
       "50%    1962.000000     1.000000   154.000000    70.000000    68.000000   \n",
       "75%    1991.000000     1.000000   162.000000    84.000000    81.000000   \n",
       "max    2016.000000     9.000000   165.000000   116.000000   120.000000   \n",
       "\n",
       "              rank     rankinlg  \n",
       "count  3436.000000  3436.000000  \n",
       "mean      4.338766     4.338766  \n",
       "std       2.396849     2.396849  \n",
       "min       1.000000     1.000000  \n",
       "25%       2.000000     2.000000  \n",
       "50%       4.000000     4.000000  \n",
       "75%       6.000000     6.000000  \n",
       "max      12.000000    12.000000  "
      ]
     },
     "execution_count": 53,
     "metadata": {},
     "output_type": "execute_result"
    }
   ],
   "source": [
    "donations.describe()"
   ]
  },
  {
   "cell_type": "code",
   "execution_count": 54,
   "metadata": {
    "collapsed": false
   },
   "outputs": [
    {
     "data": {
      "text/plain": [
       "Hist({1: 37, 2: 20, 3: 9, 4: 11, 5: 8, 6: 11, 7: 7, 8: 11, 9: 7, 10: 11, 11: 13, 12: 7, 13: 10, 14: 10, 15: 4, 16: 12, 17: 15, 18: 7, 19: 7, 20: 7, 21: 1, 22: 8, 23: 11, 24: 7, 25: 15, 26: 5, 27: 9, 28: 10, 29: 10, 30: 8, 31: 9, 32: 7, 33: 7, 34: 7, 35: 11, 36: 8, 37: 12, 38: 10, 39: 11, 40: 16, 41: 10, 42: 9, 43: 7, 44: 7, 45: 3, 46: 13, 47: 9, 48: 3, 49: 5, 50: 13, 51: 13, 52: 4, 53: 11, 54: 8, 55: 6, 56: 9, 57: 10, 58: 11, 59: 3, 60: 14, 61: 11, 62: 9, 63: 14, 64: 5, 65: 10, 66: 7, 67: 6, 68: 5, 69: 9, 70: 13, 71: 6, 72: 4, 73: 10, 74: 12, 75: 12, 76: 9, 77: 6, 78: 9, 79: 15, 80: 14, 81: 9, 82: 11, 83: 11, 84: 14, 85: 11, 86: 13, 87: 6, 88: 6, 89: 2, 90: 9, 91: 8, 92: 6, 93: 6, 94: 4, 95: 8, 96: 12, 97: 3, 98: 12, 99: 7, 100: 10, 101: 3, 102: 5, 103: 6, 104: 8, 105: 10, 106: 9, 107: 5, 108: 6, 109: 10, 110: 12, 111: 11, 112: 14, 113: 17, 114: 14, 115: 18, 116: 6, 117: 5, 118: 6, 119: 2, 120: 9, 121: 8, 122: 3, 123: 3, 124: 12, 125: 11, 126: 12, 127: 7, 128: 5, 129: 6, 130: 10, 131: 13, 132: 12, 133: 21, 134: 11, 135: 10, 136: 18, 137: 19, 138: 25, 139: 23, 140: 26, 141: 15, 142: 10, 143: 7, 144: 25, 145: 5, 146: 5, 147: 4, 148: 2, 149: 12, 150: 8, 151: 15, 152: 54, 153: 95, 154: 254, 155: 203, 156: 108, 157: 63, 158: 29, 159: 20, 160: 21, 161: 119, 162: 911, 163: 83, 164: 7, 165: 2})"
      ]
     },
     "execution_count": 54,
     "metadata": {},
     "output_type": "execute_result"
    }
   ],
   "source": [
    "hist = thinkstats2.Hist(donations.G, label=\"G\")\n",
    "hist"
   ]
  },
  {
   "cell_type": "code",
   "execution_count": 55,
   "metadata": {
    "collapsed": false
   },
   "outputs": [
    {
     "data": {
      "image/png": "[encoded data removed]",
      "text/plain": [
       "<matplotlib.figure.Figure at 0xbd31ac8>"
      ]
     },
     "metadata": {},
     "output_type": "display_data"
    }
   ],
   "source": [
    "thinkplot.Hist(hist)\n",
    "thinkplot.Config(xlabel='donations (G)', ylabel='Frequency')"
   ]
  },
  {
   "cell_type": "code",
   "execution_count": 56,
   "metadata": {
    "collapsed": false
   },
   "outputs": [
    {
     "data": {
      "text/plain": [
       "Hist({1: 442, 2: 479, 3: 480, 4: 488, 5: 501, 6: 377, 7: 290, 8: 248, 9: 42, 10: 43, 11: 25, 12: 21})"
      ]
     },
     "execution_count": 56,
     "metadata": {},
     "output_type": "execute_result"
    }
   ],
   "source": [
    "hist = thinkstats2.Hist(donations.rankinlg, label=\"rankinlg\")\n",
    "hist"
   ]
  },
  {
   "cell_type": "code",
   "execution_count": 57,
   "metadata": {
    "collapsed": false
   },
   "outputs": [
    {
     "data": {
      "image/png": "[encoded data removed]",
      "text/plain": [
       "<matplotlib.figure.Figure at 0xc85aac8>"
      ]
     },
     "metadata": {},
     "output_type": "display_data"
    }
   ],
   "source": [
    "thinkplot.Hist(hist)\n",
    "thinkplot.Config(xlabel='donations (\"rankinlg\")', ylabel='Frequency')"
   ]
  },
  {
   "cell_type": "code",
   "execution_count": 66,
   "metadata": {
    "collapsed": false
   },
   "outputs": [
    {
     "data": {
      "image/png": "[encoded data removed]",
      "text/plain": [
       "<matplotlib.figure.Figure at 0xcac92b0>"
      ]
     },
     "metadata": {},
     "output_type": "display_data"
    }
   ],
   "source": [
    "pmfg = thinkstats2.Pmf(donations.G)\n",
    "thinkplot.Pmf(pmfg)\n",
    "thinkplot.Config(xlabel='Games', ylabel='Pmf')"
   ]
  },
  {
   "cell_type": "code",
   "execution_count": 67,
   "metadata": {
    "collapsed": false
   },
   "outputs": [
    {
     "data": {
      "image/png": "[encoded data removed]",
      "text/plain": [
       "<matplotlib.figure.Figure at 0xc738208>"
      ]
     },
     "metadata": {},
     "output_type": "display_data"
    }
   ],
   "source": [
    "pmfr = thinkstats2.Pmf(donations.rankinlg)\n",
    "thinkplot.Pmf(pmfr)\n",
    "thinkplot.Config(xlabel='rankinlg', ylabel='Pmf')"
   ]
  },
  {
   "cell_type": "code",
   "execution_count": 72,
   "metadata": {
    "collapsed": false
   },
   "outputs": [
    {
     "data": {
      "image/png": "[encoded data removed]",
      "text/plain": [
       "<matplotlib.figure.Figure at 0xc803ba8>"
      ]
     },
     "metadata": {},
     "output_type": "display_data"
    }
   ],
   "source": [
    "cdf = thinkstats2.Cdf(donations.G)\n",
    "thinkplot.Cdf(cdf)\n",
    "thinkplot.Config(xlabel='donations (G)', ylabel='CDF', loc='upper left')"
   ]
  },
  {
   "cell_type": "code",
   "execution_count": 73,
   "metadata": {
    "collapsed": false
   },
   "outputs": [
    {
     "data": {
      "image/png": "[encoded data removed]",
      "text/plain": [
       "<matplotlib.figure.Figure at 0xc19bd30>"
      ]
     },
     "metadata": {},
     "output_type": "display_data"
    }
   ],
   "source": [
    "cdf = thinkstats2.Cdf(donations.rankinlg)\n",
    "thinkplot.Cdf(cdf)\n",
    "thinkplot.Config(xlabel='donations (rankinlg)', ylabel='CDF', loc='upper left')"
   ]
  },
  {
   "cell_type": "code",
   "execution_count": 78,
   "metadata": {
    "collapsed": false
   },
   "outputs": [
    {
     "data": {
      "image/png": "[encoded data removed]",
      "text/plain": [
       "<matplotlib.figure.Figure at 0xc8bcd68>"
      ]
     },
     "metadata": {},
     "output_type": "display_data"
    }
   ],
   "source": [
    "thinkplot.PrePlot()\n",
    "for lam in [2.0, 1, 0.5]:\n",
    "    xs, ps = thinkstats2.RenderExpoCdf(lam,donations.G.min(), donations.G.max())\n",
    "    label = r'$\\lambda=%g$' % lam\n",
    "    thinkplot.Plot(xs, ps, label=label)\n",
    "    \n",
    "thinkplot.Config(title='Exponential CDF', xlabel='x', ylabel='CDF', \n",
    "                 loc='lower right')"
   ]
  },
  {
   "cell_type": "code",
   "execution_count": 79,
   "metadata": {
    "collapsed": false
   },
   "outputs": [
    {
     "data": {
      "image/png": "[encoded data removed]",
      "text/plain": [
       "<matplotlib.figure.Figure at 0xd04b780>"
      ]
     },
     "metadata": {},
     "output_type": "display_data"
    }
   ],
   "source": [
    "thinkplot.PrePlot()\n",
    "for lam in [2.0, 1, 0.5]:\n",
    "    xs, ps = thinkstats2.RenderExpoCdf(lam,donations.rankinlg.min(), donations.rankinlg.max())\n",
    "    label = r'$\\lambda=%g$' % lam\n",
    "    thinkplot.Plot(xs, ps, label=label)\n",
    "    \n",
    "thinkplot.Config(title='Exponential CDF', xlabel='x', ylabel='CDF', \n",
    "                 loc='lower right')"
   ]
  },
  {
   "cell_type": "code",
   "execution_count": 103,
   "metadata": {
    "collapsed": false
   },
   "outputs": [],
   "source": [
    "def Cov(xs, ys, meanx=None, meany=None):\n",
    "    G = np.asarray(xs)\n",
    "    rankinlg = np.asarray(ys)\n",
    "\n",
    "    if meanx is None:\n",
    "        meanx = np.mean(G)\n",
    "    if meany is None:\n",
    "        meany = np.mean(rankinlg)\n",
    "\n",
    "    cov = np.dot(G-meanx, rankinlg-meany) / len(G)\n",
    "    return cov"
   ]
  },
  {
   "cell_type": "code",
   "execution_count": 109,
   "metadata": {
    "collapsed": false
   },
   "outputs": [
    {
     "data": {
      "text/plain": [
       "-37.320182048324881"
      ]
     },
     "execution_count": 109,
     "metadata": {},
     "output_type": "execute_result"
    }
   ],
   "source": [
    "\n",
    "Cov(donations.G, donations.rankinlg)"
   ]
  },
  {
   "cell_type": "code",
   "execution_count": 111,
   "metadata": {
    "collapsed": false
   },
   "outputs": [
    {
     "data": {
      "text/plain": [
       "array([[ 1.      , -0.308937],\n",
       "       [-0.308937,  1.      ]])"
      ]
     },
     "execution_count": 111,
     "metadata": {},
     "output_type": "execute_result"
    }
   ],
   "source": [
    "\n",
    "np.corrcoef(donations.G,donations.rankinlg)"
   ]
  },
  {
   "cell_type": "code",
   "execution_count": 128,
   "metadata": {
    "collapsed": true
   },
   "outputs": [],
   "source": [
    "class HypothesisTest(object):\n",
    "\n",
    "    def __init__(self, data):\n",
    "        self.data = data\n",
    "        self.MakeModel()\n",
    "        self.actual = self.TestStatistic(data)\n",
    "\n",
    "    def PValue(self, iters=100):\n",
    "        self.test_stats = [self.TestStatistic(self.RunModel()) \n",
    "                           for _ in range(iters)]\n",
    "\n",
    "        count = sum(1 for x in self.test_stats if x >= self.actual)\n",
    "        return count / iters\n",
    "\n",
    "    def TestStatistic(self, data):\n",
    "        raise UnimplementedMethodException()\n",
    "\n",
    "    def MakeModel(self):\n",
    "        pass\n",
    "\n",
    "    def RunModel(self):\n",
    "        raise UnimplementedMethodException()"
   ]
  },
  {
   "cell_type": "code",
   "execution_count": 129,
   "metadata": {
    "collapsed": true
   },
   "outputs": [],
   "source": [
    "class DiffMeansPermute(thinkstats2.HypothesisTest):\n",
    "\n",
    "    def TestStatistic(self, data):\n",
    "        group1, group2 = data\n",
    "        test_stat = abs(group1.std() - group2.std())\n",
    "        return test_stat\n",
    "\n",
    "    def MakeModel(self):\n",
    "        group1, group2 = self.data\n",
    "        self.n, self.m = len(group1), len(group2)\n",
    "        self.pool = np.hstack((group1, group2))\n",
    "\n",
    "    def RunModel(self):\n",
    "        np.random.shuffle(self.pool)\n",
    "        data = self.pool[:self.n], self.pool[self.n:]\n",
    "        return data"
   ]
  },
  {
   "cell_type": "code",
   "execution_count": 130,
   "metadata": {
    "collapsed": false
   },
   "outputs": [
    {
     "data": {
      "text/plain": [
       "0.0"
      ]
     },
     "execution_count": 130,
     "metadata": {},
     "output_type": "execute_result"
    }
   ],
   "source": [
    "data = donations.G.values, donations.rankinlg.values\n",
    "\n",
    "ht = DiffMeansPermute(data)\n",
    "pvalue = ht.PValue()\n",
    "pvalue"
   ]
  },
  {
   "cell_type": "code",
   "execution_count": null,
   "metadata": {
    "collapsed": true
   },
   "outputs": [],
   "source": []
  }
 ],
 "metadata": {
  "kernelspec": {
   "display_name": "Python 2",
   "language": "python",
   "name": "python2"
  },
  "language_info": {
   "codemirror_mode": {
    "name": "ipython",
    "version": 2
   },
   "file_extension": ".py",
   "mimetype": "text/x-python",
   "name": "python",
   "nbconvert_exporter": "python",
   "pygments_lexer": "ipython2",
   "version": "2.7.13"
  }
 },
 "nbformat": 4,
 "nbformat_minor": 2
}
